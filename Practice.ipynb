{
  "nbformat": 4,
  "nbformat_minor": 0,
  "metadata": {
    "colab": {
      "provenance": [],
      "authorship_tag": "ABX9TyPF0LKjtRCml2Kiew9S8z0M",
      "include_colab_link": true
    },
    "kernelspec": {
      "name": "python3",
      "display_name": "Python 3"
    },
    "language_info": {
      "name": "python"
    }
  },
  "cells": [
    {
      "cell_type": "markdown",
      "metadata": {
        "id": "view-in-github",
        "colab_type": "text"
      },
      "source": [
        "<a href=\"https://colab.research.google.com/github/Israkrafi/CSE482-Project/blob/main/Practice.ipynb\" target=\"_parent\"><img src=\"https://colab.research.google.com/assets/colab-badge.svg\" alt=\"Open In Colab\"/></a>"
      ]
    },
    {
      "cell_type": "code",
      "execution_count": 1,
      "metadata": {
        "id": "7cL3cFTrfK0U",
        "colab": {
          "base_uri": "https://localhost:8080/"
        },
        "outputId": "90a91acd-b3c0-4326-b952-5be388075299"
      },
      "outputs": [
        {
          "output_type": "stream",
          "name": "stdout",
          "text": [
            "5.0\n"
          ]
        }
      ],
      "source": [
        "# if u have 10 apples and i what to devide the equally among 2 people how many apples will each persons get\n",
        "\n",
        "apples = 10\n",
        "peoplex = 2\n",
        "\n",
        "result = apples / peoplex\n",
        "\n",
        "print(result)"
      ]
    },
    {
      "cell_type": "code",
      "source": [
        "credit_card1 = \"1234 1234 1234 3456\"\n",
        "credit_card2 = \"1234 1234 1234 3456\"\n",
        "\n",
        "if credit_card1 == credit_card2:\n",
        "  print(\"True\")"
      ],
      "metadata": {
        "colab": {
          "base_uri": "https://localhost:8080/"
        },
        "id": "qNb4G5CDuzRQ",
        "outputId": "841e8fc5-7258-4d7b-8c29-76197e7ed2f7"
      },
      "execution_count": 7,
      "outputs": [
        {
          "output_type": "stream",
          "name": "stdout",
          "text": [
            "True\n"
          ]
        }
      ]
    },
    {
      "cell_type": "code",
      "source": [
        "num = int(input (\"Enter number :\"))\n",
        "\n",
        "if num >= 0 and num <= 49:\n",
        "  print (\"F\")\n",
        "elif num >=50 and num <=59:\n",
        "  print (\"D\")\n",
        "elif num >=60 and num <= 69:\n",
        "  print (\"C\")\n",
        "elif num >=70 and num <= 79:\n",
        "  print (\"B\")\n",
        "elif num >= 80 and num <= 100:\n",
        "  print (\"A\")\n",
        "else: \n",
        "  print(\"You Are a Fool!\")\n"
      ],
      "metadata": {
        "colab": {
          "base_uri": "https://localhost:8080/"
        },
        "id": "FxGgrvrq1yj5",
        "outputId": "8a8bced9-f454-41fb-bda8-b2dd957e6385"
      },
      "execution_count": 10,
      "outputs": [
        {
          "output_type": "stream",
          "name": "stdout",
          "text": [
            "Enter number :-1\n",
            "You Are a Fool!\n"
          ]
        }
      ]
    }
  ]
}