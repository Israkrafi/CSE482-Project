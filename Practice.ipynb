{
  "nbformat": 4,
  "nbformat_minor": 0,
  "metadata": {
    "colab": {
      "provenance": [],
      "authorship_tag": "ABX9TyN5Aedo+/VZVflVP+O95lFu",
      "include_colab_link": true
    },
    "kernelspec": {
      "name": "python3",
      "display_name": "Python 3"
    },
    "language_info": {
      "name": "python"
    }
  },
  "cells": [
    {
      "cell_type": "markdown",
      "metadata": {
        "id": "view-in-github",
        "colab_type": "text"
      },
      "source": [
        "<a href=\"https://colab.research.google.com/github/Israkrafi/CSE482-Project/blob/main/Practice.ipynb\" target=\"_parent\"><img src=\"https://colab.research.google.com/assets/colab-badge.svg\" alt=\"Open In Colab\"/></a>"
      ]
    },
    {
      "cell_type": "code",
      "execution_count": 1,
      "metadata": {
        "id": "7cL3cFTrfK0U",
        "colab": {
          "base_uri": "https://localhost:8080/"
        },
        "outputId": "90a91acd-b3c0-4326-b952-5be388075299"
      },
      "outputs": [
        {
          "output_type": "stream",
          "name": "stdout",
          "text": [
            "5.0\n"
          ]
        }
      ],
      "source": [
        "# if u have 10 apples and i what to devide the equally among 2 people how many apples will each persons get\n",
        "\n",
        "apples = 10\n",
        "peoplex = 2\n",
        "\n",
        "result = apples / peoplex\n",
        "\n",
        "print(result)"
      ]
    },
    {
      "cell_type": "code",
      "source": [
        "credit_card1 = \"1234 1234 1234 3456\"\n",
        "credit_card2 = \"1234 1234 1234 3456\"\n",
        "\n",
        "if credit_card1 == credit_card2:\n",
        "  print(\"True\")"
      ],
      "metadata": {
        "colab": {
          "base_uri": "https://localhost:8080/"
        },
        "id": "qNb4G5CDuzRQ",
        "outputId": "841e8fc5-7258-4d7b-8c29-76197e7ed2f7"
      },
      "execution_count": 7,
      "outputs": [
        {
          "output_type": "stream",
          "name": "stdout",
          "text": [
            "True\n"
          ]
        }
      ]
    }
  ]
}